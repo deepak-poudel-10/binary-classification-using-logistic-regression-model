{
 "cells": [
  {
   "cell_type": "code",
   "execution_count": 1,
   "metadata": {},
   "outputs": [],
   "source": [
    "#importing the required packages\n",
    "import numpy as np\n",
    "import matplotlib.pyplot as plt\n",
    "import h5py\n",
    "import scipy\n",
    "from PIL import Image\n",
    "from scipy import ndimage\n",
    "%matplotlib inline"
   ]
  },
  {
   "cell_type": "code",
   "execution_count": 2,
   "metadata": {},
   "outputs": [],
   "source": [
    "# function for loading the data ie (cat vs not_cat)\n",
    "def load_dataset():\n",
    "    train_dataset = h5py.File('train_catvnoncat.h5', \"r\")\n",
    "    train_set_x_orig = np.array(train_dataset[\"train_set_x\"][:]) # your train set features\n",
    "    train_set_y_orig = np.array(train_dataset[\"train_set_y\"][:]) # your train set labels\n",
    "\n",
    "    test_dataset = h5py.File('test_catvnoncat.h5', \"r\")\n",
    "    test_set_x_orig = np.array(test_dataset[\"test_set_x\"][:]) # your test set features\n",
    "    test_set_y_orig = np.array(test_dataset[\"test_set_y\"][:]) # your test set labels\n",
    "\n",
    "    classes = np.array(test_dataset[\"list_classes\"][:]) # the list of classes\n",
    "    \n",
    "    train_set_y_orig = train_set_y_orig.reshape((1, train_set_y_orig.shape[0]))\n",
    "    test_set_y_orig = test_set_y_orig.reshape((1, test_set_y_orig.shape[0]))\n",
    "    \n",
    "    return train_set_x_orig, train_set_y_orig, test_set_x_orig, test_set_y_orig, classes"
   ]
  },
  {
   "cell_type": "code",
   "execution_count": 3,
   "metadata": {},
   "outputs": [],
   "source": [
    "# loading the data in to respective variables using the function 'load_dataset' that we had created before\n",
    "'''Here we load the training set features, training set labels, test set features,test set labels\n",
    "   and the list of classes in the respective variables using the function \"load_dataset\"  '''\n",
    "\n",
    "\n",
    "train_set_x_orig, train_set_y, test_set_x_orig, test_set_y, classes = load_dataset()"
   ]
  },
  {
   "cell_type": "code",
   "execution_count": 4,
   "metadata": {},
   "outputs": [
    {
     "data": {
      "text/plain": [
       "(209, 64, 64, 3)"
      ]
     },
     "execution_count": 4,
     "metadata": {},
     "output_type": "execute_result"
    }
   ],
   "source": [
    "train_set_x_orig.shape"
   ]
  },
  {
   "cell_type": "code",
   "execution_count": 5,
   "metadata": {},
   "outputs": [
    {
     "name": "stdout",
     "output_type": "stream",
     "text": [
      "y=[0]\n"
     ]
    },
    {
     "data": {
      "image/png": "[encoded data removed]",
      "text/plain": [
       "<Figure size 432x288 with 1 Axes>"
      ]
     },
     "metadata": {
      "needs_background": "light"
     },
     "output_type": "display_data"
    }
   ],
   "source": [
    "#let's see the example of one image from our training dataset\n",
    "#remember that our training set cat images are loaded as (y=1) and non-cat images are loaded as (y=0)\n",
    "index=45\n",
    "plt.imshow(train_set_x_orig[index])\n",
    "print('y='+str(train_set_y[:,index]))\n",
    "\n",
    "\n"
   ]
  },
  {
   "cell_type": "markdown",
   "metadata": {},
   "source": [
    "In my case while choosing index as 45 I got the non-cat image with label y=0. As mentioned before we have labeled cat image as y=1 and non_cat image as y=0"
   ]
  },
  {
   "cell_type": "raw",
   "metadata": {},
   "source": [
    "Now we find:\n",
    "number of training examples: n_train\n",
    "number of test examples: n_test\n",
    "height = width of each training image: n_px"
   ]
  },
  {
   "cell_type": "code",
   "execution_count": null,
   "metadata": {},
   "outputs": [],
   "source": [
    "n_train=train_set_x_orig.shape[0]\n",
    "n_test=test_set_x_orig.shape[0]\n",
    "n_px=train_set_x_orig.shape[1]\n",
    "print('The number of training images is =', n_train)\n",
    "print('The number of test images is =', n_test)\n",
    "print('The height/width of each image is =', n_px)\n",
    "print('train_set_x_shape is =', train_set_x_orig.shape)\n",
    "print('train_set_y shape is =',train_set_y.shape)\n",
    "print('test_set_x_shape is =',test_set_x_orig.shape)\n",
    "print('test_set_y_shape is =',test_set_y.shape)\n"
   ]
  },
  {
   "cell_type": "markdown",
   "metadata": {},
   "source": [
    "Till now the shape of our images is (n_px,n_px,3) and for convenience we are now going to reshape \n",
    "them in a numpy array of shape (n_px*n_px*3,1). After this, our training and test data set is a numpy array where each column represents a flattented image. When we want to flatten a matrix X of shape (a,b,c,d) to a matrix X_flatten of shape (b*c*d,a) we use: <br>\n",
    "X_flatten = X.reshape(X.shape[0],-1).T"
   ]
  },
  {
   "cell_type": "code",
   "execution_count": 6,
   "metadata": {},
   "outputs": [
    {
     "name": "stdout",
     "output_type": "stream",
     "text": [
      "train_set_x_flatten shape: (12288, 209)\n",
      "test_set_x_flatten_shape: (12288, 50)\n"
     ]
    }
   ],
   "source": [
    "#Reshaping the training and test set of examples \n",
    "train_set_x_flatten = train_set_x_orig.reshape (train_set_x_orig.shape[0],-1).T\n",
    "test_set_x_flatten = test_set_x_orig.reshape (test_set_x_orig.shape[0],-1).T\n",
    "print ('train_set_x_flatten shape:',train_set_x_flatten.shape)\n",
    "print('test_set_x_flatten_shape:', test_set_x_flatten.shape)\n"
   ]
  },
  {
   "cell_type": "markdown",
   "metadata": {},
   "source": [
    "We need to standardize our data while tackling with machine learnig problems and for this process of standardizing our datasets we actually subtract the mean of the whole numpy array from each example and then divide each example by the standard deviation of the whole numpy array. But for picture dataset, it is simpler and more conveninent and works almost as well to just divide every row of the dataset by 255 ( ie the maximum value of a pixel channel)."
   ]
  },
  {
   "cell_type": "code",
   "execution_count": 7,
   "metadata": {},
   "outputs": [],
   "source": [
    "#standardizing our datasets \n",
    "train_set_x = train_set_x_flatten/255\n",
    "test_set_x = test_set_x_flatten/255\n"
   ]
  },
  {
   "cell_type": "code",
   "execution_count": 9,
   "metadata": {},
   "outputs": [],
   "source": [
    "#start of the application of mathematical  model\n",
    "#sigmoid function\n",
    "'''here the argument of the function'z' is a scalar or numpy array if any size 's' is the return variable \n",
    "which is the output after the application of sigmoid funciton on 'z'. Similarly if you\n",
    "remember the mathematical function then z=w.T*x + b. Here we are using sigmoid function as an activation \n",
    "function as our problem is the problem on binary classification and sigmoid function helps \n",
    "keep the value of 'z' in  between 0 and 1 affter the input of 'z' to sigmoid function and thus the \n",
    "value of prediction by our machine learning model always lies in the range of 0 and 1 and thus the \n",
    "task of binary classiication becomes easier'''\n",
    "def sigmoid(z):\n",
    "    s=1/(1+np.exp(-z))\n",
    "    return s\n"
   ]
  },
  {
   "cell_type": "markdown",
   "metadata": {},
   "source": [
    "In our machine learning model we have to initialize the parameters 'w' and 'b' for each\n",
    "training example and later we will update those parameters after the calculation of loss\n",
    "function in each iteration.Let's create the function \"initialize_with_zeros\" to do this initial\n",
    "initialiazation to our parameters\n"
   ]
  },
  {
   "cell_type": "code",
   "execution_count": 10,
   "metadata": {},
   "outputs": [],
   "source": [
    "#initialize_with_zeros function \n",
    "def initialize_with_zeros (dim):\n",
    "    '''here the arugment dim is the size of the w vector we want (or the number of parameters in this case)\n",
    "    and the function returns 'w' which is the initialized vector of shape (dim,1) and 'b' \n",
    "    which is the initialized scalar corresponding to the bias.'''\n",
    "    w=np.zeros((dim,1))\n",
    "    b=0\n",
    "    assert(w.shape == (dim, 1))\n",
    "    assert(isinstance(b, float) or isinstance(b, int))\n",
    "    return w,b\n",
    "\n"
   ]
  },
  {
   "cell_type": "markdown",
   "metadata": {},
   "source": [
    "After the initialization of our parameters we can do forward and backward \n",
    "propagation steps for learing our parameters. In this process we initially get 'X'\n",
    "and compute A by passing the the value of z ( as z=w.T * x + b ) to the sigmoid function.\n",
    "The arguments of the function are w,b,X,Y and return values are cost( ie. negative \n",
    "likelihood cost for logistic regression, dw( ie. gradient of the loss with respect to \n",
    "w) and db( ie. gradient of the loss with respect to b)\n"
   ]
  },
  {
   "cell_type": "code",
   "execution_count": 19,
   "metadata": {},
   "outputs": [],
   "source": [
    "# propagate function\n",
    "def propagate(w,b,X,Y):\n",
    "    m=X.shape[1]\n",
    "    #forward propogation from X to cost function \n",
    "    A=sigmoid(np.dot(w.T,X)+b)\n",
    "    cost = -1/m*np.sum(Y*np.log(A)+(1-Y)*np.log(1-A))\n",
    "    #backward propagation to find grad \n",
    "    dw=1/m*np.dot(X,(A-Y).T)\n",
    "    db=1/m*np.sum(A-Y)\n",
    "    assert(dw.shape == w.shape)\n",
    "    assert(db.dtype == float)\n",
    "    cost = np.squeeze(cost)\n",
    "    assert(cost.shape == ())\n",
    "    \n",
    "    grads = {\"dw\": dw,\n",
    "             \"db\": db}\n",
    "    return grads, cost \n",
    "    "
   ]
  },
  {
   "cell_type": "markdown",
   "metadata": {},
   "source": [
    "Now as we have initialized the parameters and now we are able to compute \n",
    "a cost function and its gradient. Now we want to update our parameters by using gradient \n",
    "descent.The goal of the optimization is to learn w and b by minimizing the cost function J.\n",
    "For the parameter theta the update rule is theta= theta - alpha * d theta , where alpha is\n",
    "the learning rate. The function optimize w and b by running gradient descent algorithm.\n",
    "Arguments of the function are w ( weights, a numpy array of size (n_px*n_px*3, 1)\n",
    "b (bias, a scalar) X data of shape ( n_px*n_px*3,number of examples) and Y (true \n",
    "label vector of shape (1,number of examples), num_iterations ( number of iterations of the optimized loop), learning_rate( learning rate of the gradient descent update rule)  and print_cost to print the loss every 100 steps. And the return values of the function are params ( dictionary containing the weights w and bias b) grads ( dictionary containing the gradients of weights and bias with respect to the cost function) and costs ( list of all the costs computed during the optimization which will be used to plot the learning rate later) "
   ]
  },
  {
   "cell_type": "code",
   "execution_count": 20,
   "metadata": {},
   "outputs": [],
   "source": [
    "# optimize function\n",
    "def optimize (w,b,X,Y,num_iterations,learning_rate, print_cost=False):\n",
    "    costs=[]\n",
    "    for i in range (num_iterations):\n",
    "        grads,cost = propagate (w,b,X,Y) \n",
    "        dw=grads[\"dw\"]\n",
    "        db=grads[\"db\"]\n",
    "        w=w-learning_rate*dw\n",
    "        b=b-learning_rate*db\n",
    "        \n",
    "        #recording of the costs \n",
    "        if i%100==0:\n",
    "            costs.append(cost)\n",
    "            \n",
    "        #print the cost every 100 training iterations \n",
    "        if print_cost and i % 100 == 0:\n",
    "            print (\"Cost after iterations %i: %f\" %(i,cost))\n",
    "    params = {\"w\": w,\n",
    "            \"b\": b}\n",
    "    \n",
    "    grads = {\"dw\": dw,\n",
    "             \"db\": db}\n",
    "    \n",
    "    return params, grads, costs        "
   ]
  },
  {
   "cell_type": "markdown",
   "metadata": {},
   "source": [
    "Now we will use the learned values of w and b to get the predictions of the labels for our dataset X.\n",
    "For this we will calculate a and we will use this to get our labels by setting activation as 1 if the predicted 'a' value is greater than 0.5 and the activation as 0 if predicted value is less than 0.5.\n",
    "We will store the thus generated labels in a vector Y_prediction . Arguments of the function are w, b,X  and return value of the function is Y_prediction (a numpy array(vector) containing all the \n",
    "predictions (0/1) for the examples in X "
   ]
  },
  {
   "cell_type": "code",
   "execution_count": 21,
   "metadata": {},
   "outputs": [],
   "source": [
    "# predict function\n",
    "\n",
    "def predict (w,b, X):\n",
    "    m=X.shape[1]\n",
    "    Y_prediction=np.zeros((1,m))\n",
    "    w=w.reshape(X.shape[0],1)\n",
    "    A=sigmoid(np.dot(w.T,X)+b)\n",
    "    \n",
    "    for i in range (A.shape[1]):\n",
    "        if A[0,i]<=0.5:\n",
    "            Y_prediction[0,i]=0\n",
    "        else:\n",
    "            Y_prediction[0,i]=1\n",
    "            \n",
    "    assert(Y_prediction.shape == (1,m))\n",
    "    return Y_prediction \n",
    "    "
   ]
  },
  {
   "cell_type": "markdown",
   "metadata": {},
   "source": [
    "Till now we created different functions and now we will merge all the functions in to a model and use it for typical machine learning model for binary classification. The return value of the model function we are going to create now will be d ie. a dictionary containing the information \n",
    "about our model"
   ]
  },
  {
   "cell_type": "code",
   "execution_count": 22,
   "metadata": {},
   "outputs": [],
   "source": [
    "#model function\n",
    "def model (X_train, Y_train,X_test, Y_test, num_iterations=2000, learning_rate=0.5, print_cost= False):\n",
    "    w,b=initialize_with_zeros(X_train.shape[0])\n",
    "    parameters, grads, costs = optimize (w,b,X_train,Y_train,num_iterations,learning_rate,print_cost)\n",
    "    #retriving the parameters w and b from dictionary \"parameters\"\n",
    "    w=parameters[\"w\"]\n",
    "    b=parameters[\"b\"]\n",
    "    Y_prediction_test = predict(w,b,X_test)\n",
    "    Y_prediction_train= predict(w,b,X_train)\n",
    "    print(\"train accuracy: {} %\".format(100 - np.mean(np.abs(Y_prediction_train - Y_train)) * 100))\n",
    "    print(\"test accuracy: {} %\".format(100 - np.mean(np.abs(Y_prediction_test - Y_test)) * 100))\n",
    "\n",
    "    \n",
    "    d = {\"costs\": costs,\n",
    "         \"Y_prediction_test\": Y_prediction_test, \n",
    "         \"Y_prediction_train\" : Y_prediction_train, \n",
    "         \"w\" : w, \n",
    "         \"b\" : b,\n",
    "         \"learning_rate\" : learning_rate,\n",
    "         \"num_iterations\": num_iterations}\n",
    "    \n",
    "    return d\n",
    "    \n"
   ]
  },
  {
   "cell_type": "code",
   "execution_count": 23,
   "metadata": {},
   "outputs": [
    {
     "name": "stdout",
     "output_type": "stream",
     "text": [
      "Cost after iterations 0: 0.693147\n",
      "Cost after iterations 100: 0.584508\n",
      "Cost after iterations 200: 0.466949\n",
      "Cost after iterations 300: 0.376007\n",
      "Cost after iterations 400: 0.331463\n",
      "Cost after iterations 500: 0.303273\n",
      "Cost after iterations 600: 0.279880\n",
      "Cost after iterations 700: 0.260042\n",
      "Cost after iterations 800: 0.242941\n",
      "Cost after iterations 900: 0.228004\n",
      "Cost after iterations 1000: 0.214820\n",
      "Cost after iterations 1100: 0.203078\n",
      "Cost after iterations 1200: 0.192544\n",
      "Cost after iterations 1300: 0.183033\n",
      "Cost after iterations 1400: 0.174399\n",
      "Cost after iterations 1500: 0.166521\n",
      "Cost after iterations 1600: 0.159305\n",
      "Cost after iterations 1700: 0.152667\n",
      "Cost after iterations 1800: 0.146542\n",
      "Cost after iterations 1900: 0.140872\n",
      "train accuracy: 99.04306220095694 %\n",
      "test accuracy: 70.0 %\n"
     ]
    }
   ],
   "source": [
    "d = model(train_set_x, train_set_y, test_set_x, test_set_y, num_iterations=2000, learning_rate = 0.005, print_cost = True)"
   ]
  },
  {
   "cell_type": "code",
   "execution_count": 24,
   "metadata": {},
   "outputs": [
    {
     "data": {
      "image/png": "[encoded data removed]",
      "text/plain": [
       "<Figure size 432x288 with 1 Axes>"
      ]
     },
     "metadata": {
      "needs_background": "light"
     },
     "output_type": "display_data"
    }
   ],
   "source": [
    "#plotting the learning curve \n",
    "costs = np.squeeze(d['costs'])\n",
    "plt.plot(costs)\n",
    "plt.ylabel('cost')\n",
    "plt.xlabel('iterations (after hundred each)')\n",
    "plt.title ('graph showing the learning rate of our machine learning model')\n",
    "plt.show()"
   ]
  },
  {
   "cell_type": "markdown",
   "metadata": {},
   "source": [
    "In order for the Gradient Descent to work we must choose the learning rate very carefully.\n",
    "The learning rate determines how rapidly we update the parameters. If the learning rate is \n",
    "too large we may overshoot the optimal values and if the learning rate is too small we \n",
    "will need too many iterations to converge to the best values.  That's why it is very important that we choose the learning for our model carefully to get the optimal performance and high \n",
    "accuracy of our machine learning model. Now we will compare the learning curve of our model with \n",
    "several values of learning rate "
   ]
  },
  {
   "cell_type": "code",
   "execution_count": 34,
   "metadata": {},
   "outputs": [
    {
     "name": "stdout",
     "output_type": "stream",
     "text": [
      "The learning rate is :0.01\n",
      "train accuracy: 100.0 %\n",
      "test accuracy: 68.0 %\n",
      "n------------------------------------------------------------------->>>>>>>\n",
      "\n",
      "The learning rate is :0.001\n",
      "train accuracy: 95.2153110047847 %\n",
      "test accuracy: 74.0 %\n",
      "n------------------------------------------------------------------->>>>>>>\n",
      "\n",
      "The learning rate is :0.0001\n",
      "train accuracy: 73.20574162679426 %\n",
      "test accuracy: 52.0 %\n",
      "n------------------------------------------------------------------->>>>>>>\n",
      "\n",
      "The learning rate is :1e-05\n",
      "train accuracy: 65.07177033492823 %\n",
      "test accuracy: 34.0 %\n",
      "n------------------------------------------------------------------->>>>>>>\n",
      "\n"
     ]
    },
    {
     "data": {
      "image/png": "[encoded data removed]",
      "text/plain": [
       "<Figure size 432x288 with 1 Axes>"
      ]
     },
     "metadata": {
      "needs_background": "light"
     },
     "output_type": "display_data"
    }
   ],
   "source": [
    "learning_rates= [0.01,0.001,0.0001,0.00001]\n",
    "models = {}\n",
    "for i in learning_rates:\n",
    "    print (\"The learning rate is :\" +str(i))\n",
    "    models[str(i)]=model (train_set_x,train_set_y,test_set_x,test_set_y,num_iterations=3500, learning_rate = i , print_cost= False)\n",
    "    print ('n'+\"------------------------------------------------------------------->>>>>>>\"+'\\n')\n",
    "for i in learning_rates:\n",
    "    plt.plot (np.squeeze (models[str(i)][\"costs\"]),label =str(models[str(i)][\"learning_rate\"]))\n",
    "plt.ylabel ('cost')\n",
    "plt.xlabel ('iterations ( after 100 each)')\n",
    "\n",
    "legend = plt.legend(loc='upper center', shadow=True)\n",
    "frame = legend.get_frame()\n",
    "frame.set_facecolor('0.90')\n",
    "plt.show()"
   ]
  },
  {
   "cell_type": "markdown",
   "metadata": {},
   "source": [
    "In general we may think smaller learning rate will give better accuracy but that is not true.\n",
    "If we look above when the learning rate is 0.00001 we are getting very low train and test accuracy and it is because of overfitting. Similary the larger value of learning rate is resulting in the oscillation of the cost and in some cases it may even diverge."
   ]
  },
  {
   "cell_type": "code",
   "execution_count": null,
   "metadata": {},
   "outputs": [],
   "source": []
  }
 ],
 "metadata": {
  "kernelspec": {
   "display_name": "Python 3",
   "language": "python",
   "name": "python3"
  },
  "language_info": {
   "codemirror_mode": {
    "name": "ipython",
    "version": 3
   },
   "file_extension": ".py",
   "mimetype": "text/x-python",
   "name": "python",
   "nbconvert_exporter": "python",
   "pygments_lexer": "ipython3",
   "version": "3.7.7"
  }
 },
 "nbformat": 4,
 "nbformat_minor": 4
}
